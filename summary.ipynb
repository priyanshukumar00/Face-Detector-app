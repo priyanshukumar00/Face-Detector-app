{
 "cells": [
  {
   "cell_type": "code",
   "execution_count": null,
   "id": "938ddc6e",
   "metadata": {},
   "outputs": [],
   "source": [
    "import openai\n",
    "\n",
    "def summary(text):\n",
    "    len_text=round(len(text.split())*0.5)\n",
    "    if len_text<151:\n",
    "        len_text=150\n",
    "\n",
    "    user_content=f\"summarize the following text in 4 main headings{text}\"\n",
    "    output=client.chat.completions.create(\n",
    "        model=\"togethercomputer/Llama-2-13b-chat\",\n",
    "        messages=[{\"role\": \"user\", \"content\": user_content}],\n",
    "        temperature=0.7,\n",
    "        stop=['[/INST]', '</s>'],\n",
    "    max_tokens=1024)\n",
    "    return {\"response\": output.choices[0].message.content}"
   ]
  }
 ],
 "metadata": {
  "kernelspec": {
   "display_name": "Python 3 (ipykernel)",
   "language": "python",
   "name": "python3"
  },
  "language_info": {
   "codemirror_mode": {
    "name": "ipython",
    "version": 3
   },
   "file_extension": ".py",
   "mimetype": "text/x-python",
   "name": "python",
   "nbconvert_exporter": "python",
   "pygments_lexer": "ipython3",
   "version": "3.9.13"
  }
 },
 "nbformat": 4,
 "nbformat_minor": 5
}
